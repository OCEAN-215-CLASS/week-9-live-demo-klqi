{
 "cells": [
  {
   "cell_type": "markdown",
   "metadata": {
    "id": "BRAp37uklN9X"
   },
   "source": [
    "# 11/21/22 Live Coding Demo "
   ]
  },
  {
   "cell_type": "markdown",
   "metadata": {
    "id": "3YihuiaSoCYK"
   },
   "source": [
    "# **Detecting sea level rise from Florida tide gauge records**\n",
    "### Practice with Pandas time series analysis\n",
    "<img src=\"https://drive.google.com/uc?export=view&id=1hSIOjtYu1jHM1sfi32KjCSwxi1ADybyR\" width=\"1200\" />\n",
    "\n",
    "**Data description:** A netCDF file with hourly tide gauge records from Key West, FL (from 1913 to present). The tide gauge measurements are of relative sea level (RSL), which includes both sea level rise (from ice melt and thermal expansion) and local vertical land motion (from subsidence and isostatic rebound).\n",
    "\n",
    "**Data source:** [University of Hawaii Sea Level Center](https://uhslc.soest.hawaii.edu/datainfo/)"
   ]
  },
  {
   "cell_type": "code",
   "execution_count": null,
   "metadata": {
    "colab": {
     "base_uri": "https://localhost:8080/"
    },
    "executionInfo": {
     "elapsed": 6231,
     "status": "ok",
     "timestamp": 1669156899650,
     "user": {
      "displayName": "Treasure Warren",
      "userId": "01529500765007375693"
     },
     "user_tz": 480
    },
    "id": "Cz1ypHghoXYA",
    "outputId": "c32cfdc6-58cb-4fd6-f6c8-ad1f4c48be94",
    "tags": []
   },
   "outputs": [],
   "source": [
    "# Import NumPy, xarray, Matplotlib\n",
    "import numpy as np\n",
    "import netCDF4\n",
    "import pandas as pd\n",
    "from scipy import interpolate, stats\n",
    "import xarray as xr\n",
    "import matplotlib.pyplot as plt\n",
    "from datetime import datetime, timedelta"
   ]
  },
  {
   "cell_type": "markdown",
   "metadata": {
    "id": "30rmIENfftSW"
   },
   "source": [
    "# **Smoothing Data** \n",
    "\n",
    "# Step 1: \n",
    "Open the Key West data file and convert the sea level record to a Pandas series. Display the new Pandas series.\n",
    "Note: Drop the record id."
   ]
  },
  {
   "cell_type": "code",
   "execution_count": null,
   "metadata": {
    "colab": {
     "base_uri": "https://localhost:8080/",
     "height": 617
    },
    "executionInfo": {
     "elapsed": 311,
     "status": "ok",
     "timestamp": 1669157007272,
     "user": {
      "displayName": "Treasure Warren",
      "userId": "01529500765007375693"
     },
     "user_tz": 480
    },
    "id": "VZR6BZlXoXYA",
    "outputId": "e3b3294a-cce6-4666-b2cd-22c8b6b37cf6",
    "tags": []
   },
   "outputs": [],
   "source": [
    "# read in the filepath \n",
    "filepath = \"data/tide_gauge_key_west_fl.nc\"\n",
    "# open with xarray\n",
    "...\n",
    "# data cleaning\n",
    "..."
   ]
  },
  {
   "cell_type": "markdown",
   "metadata": {
    "id": "LINsR9axoXYB"
   },
   "source": [
    "# Step 2. Plot the time series from Key West.\n",
    "- Consider using xlim and ylim to change the resolution of the plot by drilling down on a smaller timeframe (Ex: Eight months of tide gauge records from FL)\n",
    "\n",
    "\n",
    "\n"
   ]
  },
  {
   "cell_type": "code",
   "execution_count": null,
   "metadata": {
    "colab": {
     "base_uri": "https://localhost:8080/",
     "height": 460
    },
    "executionInfo": {
     "elapsed": 2265,
     "status": "ok",
     "timestamp": 1669158038549,
     "user": {
      "displayName": "Treasure Warren",
      "userId": "01529500765007375693"
     },
     "user_tz": 480
    },
    "id": "AY7ykw-KM2bU",
    "outputId": "db3154d0-b9dc-41e0-b6b7-e4395058b8db",
    "tags": []
   },
   "outputs": [],
   "source": [
    "..."
   ]
  },
  {
   "cell_type": "markdown",
   "metadata": {
    "id": "Nzy8oBSAszAS"
   },
   "source": [
    "# Step 3. Daily averages using `.resample()'\n",
    "\n",
    "\n",
    "*   Calculate daily average of the time series using .resample().\n",
    "\n",
    "\n",
    "\n",
    "\n"
   ]
  },
  {
   "cell_type": "code",
   "execution_count": null,
   "metadata": {
    "colab": {
     "base_uri": "https://localhost:8080/",
     "height": 428
    },
    "executionInfo": {
     "elapsed": 868,
     "status": "ok",
     "timestamp": 1669158578228,
     "user": {
      "displayName": "Treasure Warren",
      "userId": "01529500765007375693"
     },
     "user_tz": 480
    },
    "id": "UOciirP1NVUX",
    "outputId": "0963c103-aaff-490c-9bf8-89ba54595068",
    "tags": []
   },
   "outputs": [],
   "source": [
    "# resampling by day\n",
    "...\n",
    "# plot\n",
    "..."
   ]
  },
  {
   "cell_type": "markdown",
   "metadata": {
    "id": "ydkA4VMmwrgb"
   },
   "source": [
    "# Step 4. Monthly running means using `.rolling()`\n",
    "\n",
    "\n",
    "* Calculate monthly running mean of the hourly time series using .rolling().\n",
    "\n",
    "* Save these as two new variables. Display one of them to check that it worked.\n",
    "\n",
    "* Make a new plot using the monthly rolling values\n",
    "\n"
   ]
  },
  {
   "cell_type": "code",
   "execution_count": null,
   "metadata": {
    "colab": {
     "base_uri": "https://localhost:8080/",
     "height": 428
    },
    "executionInfo": {
     "elapsed": 879,
     "status": "ok",
     "timestamp": 1669159071011,
     "user": {
      "displayName": "Treasure Warren",
      "userId": "01529500765007375693"
     },
     "user_tz": 480
    },
    "id": "EKw4Jq1F5vpF",
    "outputId": "9b194e26-9dea-4050-aae9-a2ce667e8c00",
    "tags": []
   },
   "outputs": [],
   "source": [
    "# calculate rolling monthly mean\n",
    "...\n",
    "# plot\n",
    "..."
   ]
  },
  {
   "cell_type": "markdown",
   "metadata": {
    "id": "1Nb0s-s6S2jt"
   },
   "source": [
    "# **Interpolating**\n",
    "\n",
    "# Step 1:\n",
    "\n",
    "* Load the NASA_GISS_global_temp CSV using pandas \n",
    "Note: Set your index_col to 'Year'"
   ]
  },
  {
   "cell_type": "code",
   "execution_count": null,
   "metadata": {
    "colab": {
     "base_uri": "https://localhost:8080/",
     "height": 893
    },
    "executionInfo": {
     "elapsed": 145,
     "status": "ok",
     "timestamp": 1669159289267,
     "user": {
      "displayName": "Treasure Warren",
      "userId": "01529500765007375693"
     },
     "user_tz": 480
    },
    "id": "_j1ZvduCdFev",
    "outputId": "c826c6b5-68f8-4205-e154-1554e7ab7689",
    "tags": []
   },
   "outputs": [],
   "source": [
    "# get filepath to temperature dataset\n",
    "filepath = \"data/NASA_GISS_global_temp.csv\"\n",
    "\n",
    "# load dataframe with index set to 'Year'\n",
    "..."
   ]
  },
  {
   "cell_type": "markdown",
   "metadata": {
    "id": "THb9hrh4579E"
   },
   "source": [
    "# Step 2:\n",
    "* Create a line plot of the years vs temperature anomaly. \n"
   ]
  },
  {
   "cell_type": "code",
   "execution_count": 6,
   "metadata": {
    "colab": {
     "base_uri": "https://localhost:8080/",
     "height": 277
    },
    "executionInfo": {
     "elapsed": 344,
     "status": "ok",
     "timestamp": 1669159566389,
     "user": {
      "displayName": "Treasure Warren",
      "userId": "01529500765007375693"
     },
     "user_tz": 480
    },
    "id": "4-z1PhrNPzQy",
    "outputId": "57d4e0fa-f700-4d14-9226-bd0fa4fb10af",
    "tags": []
   },
   "outputs": [],
   "source": [
    "#  Make a black solid line plot of the original 1880-2019 time series in \"global_temp\".\n",
    "#    Add a grid and axis labels.\n",
    "..."
   ]
  },
  {
   "cell_type": "markdown",
   "metadata": {
    "id": "Djt_cwkK6WEm"
   },
   "source": [
    "# Step 3: Removing a portion of data \n",
    "* Recreate the original line plot\n",
    "* Create a copy of \"global_temp\" and save it as a new variable, \"gt_missing_1990s\"\n",
    "* Drop the 1990s data from the new copy\n",
    "* Add scatter points for the incomplete time series in \"gt_missing_1990s\"\n"
   ]
  },
  {
   "cell_type": "code",
   "execution_count": null,
   "metadata": {
    "colab": {
     "base_uri": "https://localhost:8080/",
     "height": 277
    },
    "executionInfo": {
     "elapsed": 459,
     "status": "ok",
     "timestamp": 1669160211667,
     "user": {
      "displayName": "Treasure Warren",
      "userId": "01529500765007375693"
     },
     "user_tz": 480
    },
    "id": "pSR5rZfajQFw",
    "outputId": "8a6f8558-8067-4037-e34f-f59a05065a39",
    "tags": []
   },
   "outputs": [],
   "source": [
    "# copy over plot\n",
    "...\n",
    "\n",
    "# make copy of data\n",
    "...\n",
    "\n",
    "# Delete years 1990-1999 from dataframe copy\n",
    "...\n",
    "\n",
    "# On the same plot, add red scatter points for the incomplete time series in \"gt_missing_1990s\".\n",
    "...\n",
    "\n",
    "# Add label arguments to your plot functions above, then add a legend.\n",
    "..."
   ]
  },
  {
   "cell_type": "markdown",
   "metadata": {
    "id": "ghwLnpEF7T4c"
   },
   "source": [
    "# Step 4: Interpolate over the missing data\n",
    "* Use SciPy's interp1d() to linearly interpolate the data in \"gt_missing_1990s\" to the missing years, which are stored in the variable \"years_missing_1990s\".\n",
    "* On the same plot, add scatter points for the temperatures interpolated to years in \"years_missing_1990s\"."
   ]
  },
  {
   "cell_type": "code",
   "execution_count": null,
   "metadata": {
    "colab": {
     "base_uri": "https://localhost:8080/",
     "height": 425
    },
    "executionInfo": {
     "elapsed": 864,
     "status": "ok",
     "timestamp": 1669160243681,
     "user": {
      "displayName": "Treasure Warren",
      "userId": "01529500765007375693"
     },
     "user_tz": 480
    },
    "id": "JmuM7yosRRfI",
    "outputId": "4a8623a8-cfc1-4aa7-c718-080555d0488a",
    "tags": []
   },
   "outputs": [],
   "source": [
    "# Copy/paste plot from step 3\n",
    "...\n",
    "\n",
    "# Use SciPy's interp1d() to linearly interpolate the data\n",
    "...\n",
    "\n",
    "# add to plot\n",
    "...\n",
    "#Add label arguments to your plot functions above, then add a legend.\n",
    "..."
   ]
  },
  {
   "cell_type": "markdown",
   "metadata": {},
   "source": [
    "# Step 5: Run linear regression over data (if time permits)\n",
    "* Use scipy.stats linregress() to calculate the linear regression of temperature over all yearsm"
   ]
  },
  {
   "cell_type": "code",
   "execution_count": null,
   "metadata": {},
   "outputs": [],
   "source": [
    "# copy/paste plot from step 4\n",
    "...\n",
    "\n",
    "# calculate linear regression\n",
    "...\n",
    "\n",
    "# add to plot"
   ]
  }
 ],
 "metadata": {
  "colab": {
   "provenance": [
    {
     "file_id": "1gpbFwaHhFsgHn80fWE3t1ecMR8vJWPRm",
     "timestamp": 1669150841157
    }
   ]
  },
  "kernelspec": {
   "display_name": "Python 3 (ipykernel)",
   "language": "python",
   "name": "python3"
  },
  "language_info": {
   "codemirror_mode": {
    "name": "ipython",
    "version": 3
   },
   "file_extension": ".py",
   "mimetype": "text/x-python",
   "name": "python",
   "nbconvert_exporter": "python",
   "pygments_lexer": "ipython3",
   "version": "3.10.10"
  }
 },
 "nbformat": 4,
 "nbformat_minor": 4
}
